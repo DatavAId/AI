{
 "cells": [
  {
   "cell_type": "code",
   "execution_count": 1,
   "metadata": {},
   "outputs": [
    {
     "name": "stderr",
     "output_type": "stream",
     "text": [
      "2023-09-23 12:44:16.738953: I tensorflow/core/platform/cpu_feature_guard.cc:182] This TensorFlow binary is optimized to use available CPU instructions in performance-critical operations.\n",
      "To enable the following instructions: AVX2 FMA, in other operations, rebuild TensorFlow with the appropriate compiler flags.\n",
      "2023-09-23 12:44:17.588061: W tensorflow/compiler/tf2tensorrt/utils/py_utils.cc:38] TF-TRT Warning: Could not find TensorRT\n"
     ]
    },
    {
     "name": "stdout",
     "output_type": "stream",
     "text": [
      "Version de Tensorflow =  2.13.0\n"
     ]
    }
   ],
   "source": [
    "from __future__ import absolute_import, division, print_function\n",
    "\n",
    "import tensorflow as tf\n",
    "print('Version de Tensorflow = ', tf.__version__)\n",
    "\n",
    "# Objetos de la API de Keras\n",
    "from tensorflow.keras.layers import Dense, Flatten, Conv2D, Activation, MaxPooling2D\n",
    "from tensorflow.keras.layers import BatchNormalization,GlobalAveragePooling2D, Dropout\n",
    "from tensorflow.keras import Model\n",
    "\n",
    "from tensorflow.keras.utils import plot_model\n",
    "\n",
    "# datos mnist\n",
    "from tensorflow.keras.datasets import mnist"
   ]
  },
  {
   "cell_type": "code",
   "execution_count": 2,
   "metadata": {},
   "outputs": [],
   "source": [
    "(x_train, y_train), (x_test, y_test) = mnist.load_data()\n",
    "x_train, x_test = x_train/255.0, x_test/255.0\n",
    "\n",
    "# Agrega una dimensión para manejo de canales de imágenes en tensorflow\n",
    "x_train = x_train[...,tf.newaxis]\n",
    "x_test = x_test[...,tf.newaxis]"
   ]
  },
  {
   "cell_type": "code",
   "execution_count": 6,
   "metadata": {},
   "outputs": [
    {
     "data": {
      "text/plain": [
       "(60000, 28, 28, 1)"
      ]
     },
     "execution_count": 6,
     "metadata": {},
     "output_type": "execute_result"
    }
   ],
   "source": [
    "x_train.shape"
   ]
  },
  {
   "cell_type": "code",
   "execution_count": 3,
   "metadata": {},
   "outputs": [
    {
     "name": "stderr",
     "output_type": "stream",
     "text": [
      "2023-09-23 12:44:21.871387: I tensorflow/compiler/xla/stream_executor/cuda/cuda_gpu_executor.cc:981] could not open file to read NUMA node: /sys/bus/pci/devices/0000:01:00.0/numa_node\n",
      "Your kernel may have been built without NUMA support.\n",
      "2023-09-23 12:44:21.914956: W tensorflow/core/common_runtime/gpu/gpu_device.cc:1960] Cannot dlopen some GPU libraries. Please make sure the missing libraries mentioned above are installed properly if you would like to use GPU. Follow the guide at https://www.tensorflow.org/install/gpu for how to download and setup the required libraries for your platform.\n",
      "Skipping registering GPU devices...\n"
     ]
    }
   ],
   "source": [
    "class MyModel(Model):\n",
    "    def __init__(self):\n",
    "        super(MyModel,self).__init__()\n",
    "        self.conv1 = Conv2D(32, 3, strides=2, padding=\"same\")\n",
    "        self.nomalization1 = BatchNormalization()\n",
    "        self.activation1 = Activation(\"relu\")\n",
    "        self.maxpooling1 = MaxPooling2D(3, strides=2, padding=\"same\")\n",
    "        self.dropout1 = Dropout(0.4)\n",
    "        self.conv2 = Conv2D(64, 3, strides=2, padding=\"same\")\n",
    "        self.nomalization2 = BatchNormalization()\n",
    "        self.activation2 = Activation(\"relu\")\n",
    "        self.global_average = GlobalAveragePooling2D()\n",
    "        #self.flatten= Flatten()\n",
    "        #self.d1 = Dense(128, activation='relu')\n",
    "        self.d2 = Dense(10, activation='softmax')\n",
    "\n",
    "    def call(self,x):\n",
    "        x = self.conv1(x)\n",
    "        x = self.nomalization1(x)\n",
    "        x = self.activation1(x)\n",
    "        x = self.maxpooling1(x)\n",
    "        x = self.dropout1(x)\n",
    "        x = self.conv2(x)\n",
    "        x = self.nomalization2(x)\n",
    "        x = self.activation1(x)\n",
    "        x = self.global_average(x)\n",
    "        #x = self.flatten(x)\n",
    "        #x = self.d1(x)\n",
    "        return self.d2(x)\n",
    "\n",
    "# crea una instancia del modelo\n",
    "model = MyModel()"
   ]
  },
  {
   "cell_type": "code",
   "execution_count": 4,
   "metadata": {},
   "outputs": [],
   "source": [
    "model.compile(optimizer= \"Adam\",\n",
    "             loss=\"SparseCategoricalCrossentropy\",\n",
    "             metrics=[\"accuracy\"])"
   ]
  },
  {
   "cell_type": "code",
   "execution_count": 5,
   "metadata": {},
   "outputs": [
    {
     "name": "stdout",
     "output_type": "stream",
     "text": [
      "Epoch 1/10\n"
     ]
    },
    {
     "name": "stderr",
     "output_type": "stream",
     "text": [
      "2023-09-23 12:44:27.228939: W tensorflow/tsl/framework/cpu_allocator_impl.cc:83] Allocation of 188160000 exceeds 10% of free system memory.\n"
     ]
    },
    {
     "name": "stdout",
     "output_type": "stream",
     "text": [
      "938/938 - 8s - loss: 1.0603 - accuracy: 0.7036 - val_loss: 0.5741 - val_accuracy: 0.8682 - 8s/epoch - 8ms/step\n",
      "Epoch 2/10\n",
      "938/938 - 7s - loss: 0.5129 - accuracy: 0.8682 - val_loss: 0.3286 - val_accuracy: 0.9061 - 7s/epoch - 7ms/step\n",
      "Epoch 3/10\n",
      "938/938 - 6s - loss: 0.3545 - accuracy: 0.9082 - val_loss: 0.2638 - val_accuracy: 0.9235 - 6s/epoch - 7ms/step\n",
      "Epoch 4/10\n",
      "938/938 - 6s - loss: 0.2807 - accuracy: 0.9259 - val_loss: 0.2131 - val_accuracy: 0.9412 - 6s/epoch - 7ms/step\n",
      "Epoch 5/10\n",
      "938/938 - 6s - loss: 0.2383 - accuracy: 0.9360 - val_loss: 0.1558 - val_accuracy: 0.9586 - 6s/epoch - 7ms/step\n",
      "Epoch 6/10\n",
      "938/938 - 6s - loss: 0.2140 - accuracy: 0.9413 - val_loss: 0.1503 - val_accuracy: 0.9592 - 6s/epoch - 7ms/step\n",
      "Epoch 7/10\n",
      "938/938 - 6s - loss: 0.1955 - accuracy: 0.9452 - val_loss: 0.1115 - val_accuracy: 0.9695 - 6s/epoch - 7ms/step\n",
      "Epoch 8/10\n",
      "938/938 - 6s - loss: 0.1804 - accuracy: 0.9490 - val_loss: 0.1115 - val_accuracy: 0.9680 - 6s/epoch - 7ms/step\n",
      "Epoch 9/10\n",
      "938/938 - 6s - loss: 0.1695 - accuracy: 0.9515 - val_loss: 0.0999 - val_accuracy: 0.9719 - 6s/epoch - 7ms/step\n",
      "Epoch 10/10\n",
      "938/938 - 6s - loss: 0.1637 - accuracy: 0.9527 - val_loss: 0.1151 - val_accuracy: 0.9654 - 6s/epoch - 7ms/step\n"
     ]
    }
   ],
   "source": [
    "history = model.fit(x_train, y_train, \n",
    "                    validation_data = (x_test,y_test),\n",
    "                    batch_size = 64,\n",
    "                    shuffle=True,\n",
    "                    verbose=2,\n",
    "                    epochs=10)"
   ]
  },
  {
   "cell_type": "code",
   "execution_count": 9,
   "metadata": {},
   "outputs": [
    {
     "name": "stdout",
     "output_type": "stream",
     "text": [
      "Epoch 1/10\n"
     ]
    },
    {
     "name": "stderr",
     "output_type": "stream",
     "text": [
      "2023-09-16 22:00:35.525798: W tensorflow/tsl/framework/cpu_allocator_impl.cc:83] Allocation of 188160000 exceeds 10% of free system memory.\n"
     ]
    },
    {
     "name": "stdout",
     "output_type": "stream",
     "text": [
      "938/938 - 8s - loss: 0.1518 - accuracy: 0.9553 - val_loss: 0.1062 - val_accuracy: 0.9698 - 8s/epoch - 8ms/step\n",
      "Epoch 2/10\n",
      "938/938 - 8s - loss: 0.1478 - accuracy: 0.9564 - val_loss: 0.1160 - val_accuracy: 0.9666 - 8s/epoch - 8ms/step\n",
      "Epoch 3/10\n",
      "938/938 - 7s - loss: 0.1444 - accuracy: 0.9581 - val_loss: 0.0830 - val_accuracy: 0.9762 - 7s/epoch - 8ms/step\n",
      "Epoch 4/10\n",
      "938/938 - 7s - loss: 0.1377 - accuracy: 0.9593 - val_loss: 0.0873 - val_accuracy: 0.9754 - 7s/epoch - 8ms/step\n",
      "Epoch 5/10\n",
      "938/938 - 8s - loss: 0.1348 - accuracy: 0.9595 - val_loss: 0.0827 - val_accuracy: 0.9760 - 8s/epoch - 8ms/step\n",
      "Epoch 6/10\n",
      "938/938 - 7s - loss: 0.1284 - accuracy: 0.9621 - val_loss: 0.0846 - val_accuracy: 0.9761 - 7s/epoch - 8ms/step\n",
      "Epoch 7/10\n",
      "938/938 - 7s - loss: 0.1264 - accuracy: 0.9623 - val_loss: 0.0727 - val_accuracy: 0.9803 - 7s/epoch - 8ms/step\n",
      "Epoch 8/10\n",
      "938/938 - 8s - loss: 0.1249 - accuracy: 0.9614 - val_loss: 0.0878 - val_accuracy: 0.9738 - 8s/epoch - 8ms/step\n",
      "Epoch 9/10\n",
      "938/938 - 7s - loss: 0.1211 - accuracy: 0.9636 - val_loss: 0.0756 - val_accuracy: 0.9770 - 7s/epoch - 8ms/step\n",
      "Epoch 10/10\n",
      "938/938 - 7s - loss: 0.1204 - accuracy: 0.9637 - val_loss: 0.0684 - val_accuracy: 0.9801 - 7s/epoch - 8ms/step\n"
     ]
    }
   ],
   "source": [
    "history = model.fit(x_train, y_train, \n",
    "                    validation_data = (x_test,y_test),\n",
    "                    batch_size = 64,\n",
    "                    shuffle=True,\n",
    "                    verbose=2,\n",
    "                    epochs=10)"
   ]
  }
 ],
 "metadata": {
  "kernelspec": {
   "display_name": "Deepl",
   "language": "python",
   "name": "python3"
  },
  "language_info": {
   "codemirror_mode": {
    "name": "ipython",
    "version": 3
   },
   "file_extension": ".py",
   "mimetype": "text/x-python",
   "name": "python",
   "nbconvert_exporter": "python",
   "pygments_lexer": "ipython3",
   "version": "3.10.12"
  },
  "orig_nbformat": 4
 },
 "nbformat": 4,
 "nbformat_minor": 2
}
